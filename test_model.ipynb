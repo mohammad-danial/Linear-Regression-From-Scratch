{
 "cells": [
  {
   "cell_type": "markdown",
   "metadata": {},
   "source": [
    "# Linear Regression From Scratch"
   ]
  },
  {
   "cell_type": "markdown",
   "metadata": {},
   "source": [
    "Linear Regression is a supervised regression algorithm that supposes the linearity of a function: $${{f}(x)} = {X}{\\alpha} + {\\beta}$$\n",
    "$$Dim(X) = {m}\\times{n}$$\n",
    "$$Dim(\\alpha) = {n}\\times{1}$$\n",
    "And aims to get the best values of the **coefficient** ${\\alpha}$ and the **intercept** ${\\beta}$"
   ]
  },
  {
   "cell_type": "markdown",
   "metadata": {},
   "source": [
    "There are many ways to fit a linear regression model into our data and find the best values for $\\alpha$ and $\\beta$\n",
    "* Normal Equation: ${\\alpha} = ({X}^{T}{X})^{-1}{X}^{T}{y}$\n",
    "    * In this formula returns only the **coefficient** ${\\alpha}$, so we might append a column of ones into our ${X}$\n",
    "    * This way is conisered the best as it returns the optimal value of ${\\alpha}$ to fit ${x}$ into ${y}$\n",
    "    * Full derivation may be found here https://medium.com/swlh/understanding-mathematics-behind-normal-equation-in-linear-regression-aa20dc5a0961"
   ]
  },
  {
   "cell_type": "code",
   "execution_count": 1,
   "metadata": {},
   "outputs": [
    {
     "data": {
      "image/png": "[encoded data removed]",
      "text/plain": [
       "<Figure size 432x288 with 1 Axes>"
      ]
     },
     "metadata": {
      "needs_background": "light"
     },
     "output_type": "display_data"
    }
   ],
   "source": [
    "# Let's test the normal equation on a dummy data\n",
    "import numpy as np\n",
    "from matplotlib import pyplot as plt\n",
    "from model.LinearRegression import LinearRegressor\n",
    "from sklearn.metrics import mean_absolute_error as mae\n",
    "from sklearn.linear_model import LinearRegression\n",
    "\n",
    "X =  np.random.randn(1000, 1)\n",
    "y = 4 + 10 * X + np.random.randn(1000, 1)\n",
    "\n",
    "\n",
    "normal_linear_regression = LinearRegressor(solver='normal')\n",
    "normal_linear_regression.fit(X,y)\n",
    "X_pred = np.array([[0],[2]])\n",
    "y_pred = normal_linear_regression.predict(X_pred)\n",
    "error = mae(y, normal_linear_regression.predict(X))\n",
    "\n",
    "plt.title(f\"$*Mean Absolute Error* {error}$\")\n",
    "plt.plot(X_pred, y_pred, \"b-\", linewidth=4, label=\"$\\hat{y}$\")\n",
    "plt.plot(X, y,'r.', label=\"y\")\n",
    "plt.legend(loc=\"upper left\", fontsize=14)\n",
    "plt.axis([0, 2, 0, 35])\n",
    "plt.show()"
   ]
  },
  {
   "cell_type": "markdown",
   "metadata": {},
   "source": [
    "* Another way is using **SVD (Singular Value Decomposition)** that is used for LinearRegression in  sklearn (scikit-learn: a python library for Machine Learning) <br>\n",
    "\n",
    "\n",
    "The linear function here ignores the bias term $${F}_{\\alpha}(x) = {X}{\\alpha}$$\n",
    "$$Dim(X) = {m}\\times{n}$$\n",
    "$$Dim(\\alpha) = {n}\\times{1}$$\n",
    "\n",
    "As ${x}$ is a matrix we will use the SVD algorithm, which is briefly a factorization of a real or complex matrix. It generalizes the eigendecomposition of a square normal matrix with an orthonormal eigenbasis to any ${m}\\times{n}$ matrix. It is related to the polar decomposition. - *wikipedia*. SVD decomposes the matrix into three other matrices  $${SVD(X)} = {U}_{{m}\\times{m}}{\\Sigma}_{{m}\\times{n}}{{V}^{T}}_{{n}\\times{n}}$$ <br>\n",
    "\n",
    "$\\Sigma$ is called singular values and it is a diagnoal matrix (with $({m}\\times{n})$ dimension), and it tells you how important the various columns of ${U}$ and ${V}^{T}$ are.\n",
    "\n",
    "${U}$  is called left singular vectors (with $({m}\\times{m})$ dimension) and ${V}^{T}$ is called right singular vectors (with $({n}\\times{n})$ dimension) are orthogonal matrices<br>\n",
    "\n",
    "\n",
    "${U}$ and ${V}^{T}$ are unitary (that means ${U}.{U}^{T} = {{U}^{T}}.{U} = {\\Iota}$ (where ${\\Iota}\\in{R}^{m}$), and ${{V}^{T}}.{V} = {V}.{{V}^{T}} = {\\Iota}$ (where ${\\Iota}\\in{R}^{n}$))<br>\n",
    "\n",
    "---\n",
    "\n",
    "${U}$ is a matrix of eigenvectors of ${X}{X}^{T}$ and columns of ${U}$ are named eigen-faces and they are sorted by importance, in other words by their ability to describe the variants in the columns of the matrix ${X}$. They represent information about the column spaces of ${X}$\n",
    "$${U} = \\begin{bmatrix} \n",
    "    | & | & | & | &. &. &| \\\\\n",
    "    \\frac{1}{{\\sigma}_{1}} {A}{v1} & \\frac{1}{{\\sigma}_{2}} {A}{v2} & \\frac{1}{{\\sigma}_{3}} {A}{v3} & \\frac{1}{{\\sigma}_{4}} {A}{v4} &. &. &\\frac{1}{{\\sigma}_{n}} {A}{vn} \\\\\n",
    "    | & | & | & | &. &. &|\n",
    "    \\end{bmatrix}_{{m}\\times{m}}$$\n",
    "\n",
    "\n",
    "\n",
    "$\\sigma_{i}$, ${i} \\in {[1,n]}$ (singular values in $\\Sigma$) can be represented as $\\sigma_{n} = \\sqrt{{\\lambda}_{n}}$ where $\\lambda_{n}$ is *nth eigenvalue* of ${X}^{T}{X}$\n",
    "\n",
    "$$\\Sigma = \\begin{bmatrix}\n",
    "    {\\sigma}_{1} & 0 & 0 & 0 & 0 & 0 &0\\\\\n",
    "    0 & {\\sigma}_{2} & 0 & 0 & 0 & 0 &0\\\\\n",
    "    0 & 0 & {\\sigma}_{3} & 0 & 0 & 0 &0 \\\\\n",
    "    0 & 0 & 0 & {\\sigma}_{4} & 0 & 0 &0 \\\\\n",
    "    . & . & . & . & . & . & .\\\\\n",
    "    . & . & . & . & . & . & .\\\\\n",
    "    0 & 0 & 0 & 0 & 0 & 0 & {\\sigma}_{n} \\\\\n",
    "    . & . & . & . & . & . & . \\\\\n",
    "    . & . & . & . & . & . & .\\\\\n",
    "    . & . & . & . & . & . & .\\\\\n",
    "    0 & 0 & 0 & 0 & 0 & 0 & 0\n",
    "\n",
    "    \\end{bmatrix}_{{m}\\times{n}}$$\n",
    "\n",
    "\n",
    "$${\\sigma}_{1} \\geq {\\sigma}_{2} \\geq {\\sigma}_{3} \\geq {\\sigma}_{4} ... \\geq {\\sigma}_{n}$$\n",
    "\n",
    "By deault the eigenvalues here will come from eigenvectors of ${X}^{T}{X}$ that has dimensions ${{n}\\times{n}}$ so we aadded zeros to lineup with the multiplication of the matrix to be proper dimensions ${{m}\\times{n}}$\n",
    "\n",
    "${V}$ is a matrix of the eigenvectors of ${X}^{T}{X}$ and rows of ${V}^{T}$ are named eigen-timeseries and they are sorted by importance, in other words by their ability to describe the variants in the rows of the matrix ${X}$. They represent information about the row spaces of ${X}$ \n",
    "    $${V}^{T}=\\begin{bmatrix}\n",
    "    - & v1 & - \\\\\n",
    "    - & v2 & - \\\\\n",
    "    - & v3 & - \\\\\n",
    "    - & | & - \\\\\n",
    "    - & | & - \\\\\n",
    "    - & | & - \\\\\n",
    "    - & {v}_{n} & -\n",
    "    \\end{bmatrix}_{{n}\\times{n}}$$\n",
    "\n",
    "* Using SVD with Linear Regression would be like \n",
    "    $${X} = {U}{\\Sigma}{V}^{T}$$\n",
    "    $${X}{\\alpha} = y$$\n",
    "    $${U}{\\Sigma}{V}^{T}{\\alpha} = y$$\n",
    "    \n",
    "\n",
    "    To find $\\alpha$ we use the *psuedinverse* of X\n",
    "    $${V}{\\Sigma}^{-1}{U}^{T}{U}{\\Sigma}{V}^{T}{\\alpha} = {V}{\\Sigma}^{-1}{U}^{T}y$$\n",
    "    $$\\hat\\alpha = {V}{\\Sigma}^{-1}{U}^{T}{y}$$\n",
    "    And as simple as this is, we find the weights $\\alpha$ \n",
    "\n",
    "\n",
    "Notes:\n",
    "\n",
    "``I didn't explain the process of finding eigenvectors here, so you can just search Google and you can find many tutorials``"
   ]
  },
  {
   "cell_type": "markdown",
   "metadata": {},
   "source": [
    "* Other ways depend on the gradient descent, which is an algorithm to find a local minimum of a given function and here we use the *Mean Sqaured Error*\n",
    "    * &emsp; The Learning Function $F_{\\alpha,\\beta}(X) = {X}{\\alpha}+{\\beta}$ \n",
    "\n",
    "    * &emsp; First we have to set ential values for $\\alpha$ and $\\beta$, with *(dimension of $\\alpha$)* = *(dimension any row of x)*, and $\\beta$ to be a random number or zero $$dim(X) = (m \\times n)$$ $$dim(\\alpha) = (n \\times 1)$$ $$\\beta \\in \\mathbb{R}$$\n",
    "\n",
    "    * &emsp; Then to define a learning rate (${lr}$) **The larger ${lr}$ the faster to get to the actual optimization but the smaller is the better it's going to be in the end because we are paying attention to the details (will be explained better next)** \n",
    "\n",
    "    * &emsp; The loss function is defined as $${L(\\alpha,\\beta)}=\\frac{1}{2m} \\sum \\limits _{i=1} ^ {m} ({{f}({X}^{(i)})} - {y}^{(i)})^2$$\n",
    "    $${L(\\alpha,\\beta)}=\\frac{1}{2m} \\sum \\limits _{i=1} ^ {m} ({X}^{(i)}{\\alpha} + {\\beta} - {y}^{(i)})^2$$\n",
    "\n",
    "    * &emsp; After that, for a number of epochs (iterations) or until convergence (**finding a set of inputs that result in the maximum or minimum value from an objective function** in our case to find the **minimum** value) do...\n",
    "\n",
    "        1. &emsp; To minimize the value $\\alpha$ we have to find the partial derivative of the Loss function with respect to it $$\\frac{\\partial {L(\\alpha,\\beta)}}{\\partial {\\alpha}} = \\frac{1}{m} \\sum \\limits _{i=1} ^ {m} ({X}^{(i)}{\\alpha} + {\\beta} - {y}^{(i)}) {x}^{(i)}$$\n",
    "\n",
    "        2. &emsp; To minimize the value $\\beta$ we have to find the partial derivative of the Loss function with respect to it as well $$\\frac{\\partial {L(\\alpha,\\beta)}}{\\partial {\\beta}} = \\frac{1}{m} \\sum \\limits _{i=1} ^ {m} ({X}^{(i)}{\\alpha} + {\\beta} - {y}^{(i)})$$\n",
    "\n",
    "        3. &emsp; Then to subtract the derivatives from the original values $$\\alpha = \\alpha - {lr} \\frac{\\partial {L(\\alpha,\\beta)}}{\\partial {\\alpha}}$$ $$\\beta = \\beta - {lr} \\frac{\\partial {L(\\alpha,\\beta)}}{\\partial {\\beta}}$$ \n",
    "    * &emsp; In many cases we might add a regularization to our cost function (**techniques that are used to calibrate machine learning models in order to minimize the adjusted loss function and prevent overfitting or underfitting**), Machine Learning and Mathmatics enthusiasts usually only regularize the term *$\\alpha$*. The most famous regularization functions are: \n",
    "        1. &emsp; **The Lasso Regularization** *$$l_{1}(\\alpha) = \\frac{{\\lambda}_{1}}{m}  \\sum _{j=1}^{n} {|\\alpha^{(j)}|}$$* \n",
    "            adding it to the cost function *$L$* may result in changing the derivative of the cost function with repect to *$\\alpha$* into $$\\frac{\\partial {L(\\alpha,\\beta)}}{\\partial {\\alpha}} = \\frac{1}{m} \\sum \\limits _{i=1} ^ {m} \\biggr[({X}^{(i)}{\\alpha} + {\\beta} - {y}^{(i)}) {X}^{(i)} + {\\lambda}_{1}\\sum _{j=1}^{n} sign({\\alpha}^{(j)})\\biggr]$$\n",
    "        2. &emsp; **The Ridge Regularization** *$$l_{2}(\\alpha) = \\frac{{\\lambda}_{2}}{m}  \\sum _{j=1}^{n} {{\\alpha^{(j)}}^{2}}$$* \n",
    "            and the derivative would then be $$\\frac{\\partial {L(\\alpha,\\beta)}}{\\partial {\\alpha}} = \\frac{1}{m} \\sum \\limits _{i=1} ^ {m} \\biggr[({X}^{(i)}{\\alpha} + {\\beta} - {y}^{(i)}) {X}^{(i)} + 2{\\lambda}_{2}\\sum_{j=1}^{n}({\\alpha}^{(j)})\\biggr]$$\n",
    "        **NOTE: The key difference between these techniques is that Lasso shrinks the less important feature’s coefficient to zero thus, removing some feature altogether. So, this works well for feature selection in case we have a huge number of features.**\n",
    "        \n",
    "        3. &emsp; **The Elastic Net Regularization** is a combination of both *$l1$* and *$l2$* *$$Elastic(\\alpha) = \\frac{1}{m} \\Bigr[{\\lambda}_{1}  \\sum _{j=1}^{n} {|\\alpha^{(j)}|} + {\\lambda}_{2}  \\sum _{j=1}^{n} {{\\alpha^{(j)}}^{2}}\\Bigr]$$*\n",
    "        And adding this term into our cost function will lead into change in the derivative of the cost function with repect to *$\\alpha$* into\n",
    "        $$\\frac{\\partial {L(\\alpha,\\beta)}}{\\partial {\\alpha}} = \\frac{1}{m} \\sum \\limits _{i=1} ^ {m} \\Biggr[({X}^{(i)}{\\alpha} + {\\beta} - {y}^{(i)}) {X}^{(i)} + {\\lambda}_{1}\\sum _{j=1}^{n} sign({\\alpha}^{(j)}) + 2{\\lambda}_{2}\\sum_{j=1}^{n}({\\alpha}^{(j)})\\Biggr]$$\n",
    "\n",
    "        The lambda parameter controls the amount of regularization applied to the model\n",
    "\n",
    "* The first algorithm that depends on Gradient Descent approach is **Batch Gradient Descent** and here we feed the whole dataset *$X$* to the minimizing step for each epoch \n",
    "\n",
    "* The second one is **Mini Batch Gradient Descent** and here we feed small chunks (*S* steps) of the dataset *$X$* to the minimizing step to the end of the dataset *$X$* for each epoch (update gradients after passing through *S* rows of *$X$*)\n",
    "\n",
    "* The third is **Stochastic Gradient Descent** and here we feed a single row of the dataset *$X$* to the minimizing step to the end of the dataset *$X$* for each epoch (update gradients after passing through every row of the dataset)"
   ]
  },
  {
   "cell_type": "code",
   "execution_count": 2,
   "metadata": {},
   "outputs": [],
   "source": [
    "# Now let's use a real-world dataset to test how every solver would work\n",
    "from sklearn.datasets import load_diabetes\n",
    "from sklearn.preprocessing import StandardScaler\n",
    "from sklearn.model_selection import train_test_split\n",
    "\n",
    "X, y =  load_diabetes(return_X_y=True)\n",
    "X_train, X_test, y_train, y_test = train_test_split(X, y, test_size=.2)\n",
    "\n",
    "# Scale the fetures\n",
    "attr_scaler = StandardScaler()\n",
    "X_train = attr_scaler.fit_transform(X_train)\n",
    "X_test = attr_scaler.transform(X_test)"
   ]
  },
  {
   "cell_type": "code",
   "execution_count": 4,
   "metadata": {},
   "outputs": [
    {
     "name": "stdout",
     "output_type": "stream",
     "text": [
      "Normal Equation model MAE ==> 45.282227513632115\n"
     ]
    }
   ],
   "source": [
    "my_normal_model = LinearRegressor(solver='normal')\n",
    "my_normal_model.fit(X_train, y_train)\n",
    "normal_model_y_pred = my_normal_model.predict(X_test)\n",
    "print(f\"{my_normal_model.alias} model MAE ==>\", mae(y_test, normal_model_y_pred))"
   ]
  },
  {
   "cell_type": "code",
   "execution_count": 8,
   "metadata": {},
   "outputs": [
    {
     "name": "stdout",
     "output_type": "stream",
     "text": [
      "Singular Value Decomposition model MAE ==> 45.28222751363216\n",
      "Sklearn Linear Regression model MAE ==> 45.28222751363216\n"
     ]
    }
   ],
   "source": [
    "my_svd_model = LinearRegressor(solver='SVD')\n",
    "my_svd_model.fit(X_train, y_train)\n",
    "svd_model_y_pred = my_svd_model.predict(X_test)\n",
    "print(f\"{my_svd_model.alias} model MAE ==>\", mae(y_test, svd_model_y_pred))\n",
    "\n",
    "\n",
    "# Compare it to Sklearn Linear Regression as it uses SVD as well\n",
    "sklearn_svd_model = LinearRegression()\n",
    "sklearn_svd_model.fit(X_train, y_train)\n",
    "sklearn_svd_model_y_pred = sklearn_svd_model.predict(X_test)\n",
    "print(f\"Sklearn Linear Regression model MAE ==>\", mae(y_test, sklearn_svd_model_y_pred))"
   ]
  },
  {
   "cell_type": "code",
   "execution_count": 45,
   "metadata": {},
   "outputs": [
    {
     "name": "stderr",
     "output_type": "stream",
     "text": [
      "Fitting a batch gradient descent model into the data...: 100%|██████████| 300/300 [00:00<00:00, 28392.97it/s]"
     ]
    },
    {
     "name": "stdout",
     "output_type": "stream",
     "text": [
      "Batch Gradient Descent model MAE ==> 138.61825948873357\n"
     ]
    },
    {
     "name": "stderr",
     "output_type": "stream",
     "text": [
      "\n"
     ]
    }
   ],
   "source": [
    "# Let's use the Batch Gradient Descent with elastic regulariztion\n",
    "# The smaller error the best model\n",
    "batch_model = LinearRegressor(solver='batch', regularization='elastic', lambda_=0.1)\n",
    "batch_model.fit(X_train, y_train)\n",
    "batch_model_y_hat = batch_model.predict(X_test)\n",
    "print(f\"{batch_model.alias} model MAE ==>\", mae(y_test, batch_model_y_hat))"
   ]
  },
  {
   "cell_type": "code",
   "execution_count": 46,
   "metadata": {},
   "outputs": [
    {
     "name": "stderr",
     "output_type": "stream",
     "text": [
      "Fitting a mini-batch gradient descent model into the data...: 100%|██████████| 300/300 [00:00<00:00, 2667.61it/s]"
     ]
    },
    {
     "name": "stdout",
     "output_type": "stream",
     "text": [
      "Mini Batch Gradient Descent model MAE ==> 60.452117047496124\n"
     ]
    },
    {
     "name": "stderr",
     "output_type": "stream",
     "text": [
      "\n"
     ]
    }
   ],
   "source": [
    "# Now let's use the Mini Batch Gradient Descent with l2 regulariztion\n",
    "mini_batch_model = LinearRegressor(solver='mini_batch', regularization='l2', l2=0.01)\n",
    "mini_batch_model.fit(X_train, y_train)\n",
    "mini_batch_model_y_hat = mini_batch_model.predict(X_test)\n",
    "print(f\"{mini_batch_model.alias} model MAE ==>\", mae(y_test, mini_batch_model_y_hat))"
   ]
  },
  {
   "cell_type": "code",
   "execution_count": 52,
   "metadata": {},
   "outputs": [
    {
     "name": "stderr",
     "output_type": "stream",
     "text": [
      "Fitting a stochastic gradient descent model into the data...: 100%|██████████| 300/300 [00:01<00:00, 186.04it/s]"
     ]
    },
    {
     "name": "stdout",
     "output_type": "stream",
     "text": [
      "Stochastic Gradient Descent model MAE ==> 42.605496815739386\n"
     ]
    },
    {
     "name": "stderr",
     "output_type": "stream",
     "text": [
      "\n"
     ]
    }
   ],
   "source": [
    "# Finally let's test the Stochastic Gradient Descent also with l2 regulariztion\n",
    "stochastic_batch_model = LinearRegressor(solver='stochastic', regularization='l2', l2=0.1)\n",
    "stochastic_batch_model.fit(X_train, y_train)\n",
    "stochastic_batch_model_y_hat = stochastic_batch_model.predict(X_test)\n",
    "print(f\"{stochastic_batch_model.alias} model MAE ==>\", mae(y_test, stochastic_batch_model_y_hat))"
   ]
  }
 ],
 "metadata": {
  "kernelspec": {
   "display_name": "Python 3.8.5",
   "language": "python",
   "name": "python3"
  },
  "language_info": {
   "codemirror_mode": {
    "name": "ipython",
    "version": 3
   },
   "file_extension": ".py",
   "mimetype": "text/x-python",
   "name": "python",
   "nbconvert_exporter": "python",
   "pygments_lexer": "ipython3",
   "version": "3.8.5"
  },
  "orig_nbformat": 4,
  "vscode": {
   "interpreter": {
    "hash": "3e2f0abb3d00f026a4a9480d53b795babdce6ba5cf0198e370ebd6e90f020837"
   }
  }
 },
 "nbformat": 4,
 "nbformat_minor": 2
}
